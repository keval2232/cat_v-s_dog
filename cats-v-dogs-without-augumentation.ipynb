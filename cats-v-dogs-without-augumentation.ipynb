{
 "cells": [
  {
   "cell_type": "code",
   "execution_count": 1,
   "id": "unlikely-encounter",
   "metadata": {},
   "outputs": [],
   "source": [
    "import tensorflow as tf\n",
    "import os\n",
    "import zipfile\n",
    "import random\n",
    "import shutil\n",
    "from tensorflow.keras.optimizers import RMSprop\n",
    "from tensorflow.keras.preprocessing.image import ImageDataGenerator\n",
    "from shutil import copyfile\n",
    "from os import getcwd\n",
    "import matplotlib.image as mpimg\n",
    "import matplotlib.pyplot as plt"
   ]
  },
  {
   "cell_type": "code",
   "execution_count": 12,
   "id": "medieval-diamond",
   "metadata": {},
   "outputs": [],
   "source": [
    "path = f\"{getcwd()}/dogs-vs-cats.zip\"\n",
    "local_zip=path\n",
    "zip_ref=zipfile.ZipFile(local_zip,'r')\n",
    "zip_ref.extractall('cats_vs_dogs/data')\n",
    "zip_ref.close()"
   ]
  },
  {
   "cell_type": "code",
   "execution_count": 18,
   "id": "pregnant-medicare",
   "metadata": {},
   "outputs": [],
   "source": [
    "#unzip traing set\n",
    "path_train=f\"{getcwd()}/data/train.zip\"\n",
    "local_zip_train = path_train\n",
    "zip_ref_train=zipfile.ZipFile(local_zip_train,'r')\n",
    "zip_ref_train.extractall('cats_vs_dogs/data/train')\n",
    "zip_ref_train.close()"
   ]
  },
  {
   "cell_type": "code",
   "execution_count": 17,
   "id": "reasonable-vinyl",
   "metadata": {},
   "outputs": [],
   "source": [
    "#unzip testing data\n",
    "path_test=f\"{getcwd()}/data/test1.zip\"\n",
    "local_zip_test = path_train\n",
    "zip_ref_test=zipfile.ZipFile(local_zip_train,'r')\n",
    "zip_ref_test.extractall('cat_vs_dogs/data/test')\n",
    "zip_ref_test.close()"
   ]
  },
  {
   "cell_type": "code",
   "execution_count": 2,
   "id": "acknowledged-locator",
   "metadata": {},
   "outputs": [
    {
     "name": "stdout",
     "output_type": "stream",
     "text": [
      "2\n",
      "11489\n"
     ]
    }
   ],
   "source": [
    "print(len(os.listdir('/data/train')))\n",
    "print(len(os.listdir('/data/test')))"
   ]
  },
  {
   "cell_type": "code",
   "execution_count": 3,
   "id": "stuck-moldova",
   "metadata": {},
   "outputs": [
    {
     "name": "stdout",
     "output_type": "stream",
     "text": [
      "Found 25000 images belonging to 2 classes.\n"
     ]
    }
   ],
   "source": [
    "train_dir=\"/data/train\"\n",
    "#print(len(os.listdir(train_dir)))\n",
    "train_datagen=ImageDataGenerator(rescale=1.0/255.)\n",
    "train_generator=train_datagen.flow_from_directory(train_dir,\n",
    "                                                 batch_size=10,\n",
    "                                                 class_mode='binary',\n",
    "                                                 target_size=(150,150))\n"
   ]
  },
  {
   "cell_type": "code",
   "execution_count": 4,
   "id": "electrical-glass",
   "metadata": {},
   "outputs": [
    {
     "name": "stdout",
     "output_type": "stream",
     "text": [
      "Found 1013 images belonging to 2 classes.\n"
     ]
    }
   ],
   "source": [
    "test_dir=\"/data/test\"\n",
    "#print(len(os.listdir(test_dir)))\n",
    "test_datagen=ImageDataGenerator(rescale=1.0/255.)\n",
    "test_generator=test_datagen.flow_from_directory(test_dir,\n",
    "                                                 batch_size=10,\n",
    "                                                 class_mode='binary',\n",
    "                                                 target_size=(150,150))"
   ]
  },
  {
   "cell_type": "code",
   "execution_count": 5,
   "id": "starting-recorder",
   "metadata": {},
   "outputs": [
    {
     "name": "stdout",
     "output_type": "stream",
     "text": [
      "['cat.0.jpg', 'cat.1.jpg', 'cat.10.jpg', 'cat.100.jpg', 'cat.1000.jpg', 'cat.10000.jpg', 'cat.10001.jpg', 'cat.10002.jpg', 'cat.10003.jpg', 'cat.10004.jpg']\n",
      "['10000.jpg', '10001.jpg', '10002.jpg', '10003.jpg', '10004.jpg', '10005.jpg', '10006.jpg', '10007.jpg', '10008.jpg', '10009.jpg']\n"
     ]
    }
   ],
   "source": [
    "train_fnames = os.listdir(train_dir+'/cat')\n",
    "test_fnames = os.listdir(test_dir)\n",
    "print(train_fnames[:10])\n",
    "print(test_fnames[:10])"
   ]
  },
  {
   "cell_type": "code",
   "execution_count": null,
   "id": "independent-utility",
   "metadata": {},
   "outputs": [],
   "source": []
  },
  {
   "cell_type": "code",
   "execution_count": 5,
   "id": "recovered-utility",
   "metadata": {},
   "outputs": [],
   "source": [
    "model = tf.keras.models.Sequential([\n",
    "    tf.keras.layers.Conv2D(16,(3,3),activation='relu', input_shape=(150,150,3)),\n",
    "                                    tf.keras.layers.MaxPooling2D(2,2),\n",
    "                                    tf.keras.layers.Conv2D(32,(3,3),activation='relu'),\n",
    "                                    tf.keras.layers.MaxPooling2D(2,2), \n",
    "                                    tf.keras.layers.Conv2D(64, (3,3), activation='relu'), \n",
    "                                    tf.keras.layers.MaxPooling2D(2,2),\n",
    "                                    tf.keras.layers.Flatten(),  #Flatten the result and fit them into Dense Neural network\n",
    "                                    tf.keras.layers.Dense(512, activation='relu'), #Dense layer with 512 hidden units\n",
    "                                    #only one output unti due to binary classifaction,\n",
    "                                    tf.keras.layers.Dense(1, activation='sigmoid')  \n",
    "\n",
    "])"
   ]
  },
  {
   "cell_type": "code",
   "execution_count": 20,
   "id": "egyptian-valuation",
   "metadata": {},
   "outputs": [
    {
     "name": "stdout",
     "output_type": "stream",
     "text": [
      "Model: \"sequential_1\"\n",
      "_________________________________________________________________\n",
      "Layer (type)                 Output Shape              Param #   \n",
      "=================================================================\n",
      "conv2d_3 (Conv2D)            (None, 148, 148, 16)      448       \n",
      "_________________________________________________________________\n",
      "max_pooling2d_3 (MaxPooling2 (None, 74, 74, 16)        0         \n",
      "_________________________________________________________________\n",
      "conv2d_4 (Conv2D)            (None, 72, 72, 32)        4640      \n",
      "_________________________________________________________________\n",
      "max_pooling2d_4 (MaxPooling2 (None, 36, 36, 32)        0         \n",
      "_________________________________________________________________\n",
      "conv2d_5 (Conv2D)            (None, 34, 34, 64)        18496     \n",
      "_________________________________________________________________\n",
      "max_pooling2d_5 (MaxPooling2 (None, 17, 17, 64)        0         \n",
      "_________________________________________________________________\n",
      "flatten_1 (Flatten)          (None, 18496)             0         \n",
      "_________________________________________________________________\n",
      "dense_2 (Dense)              (None, 512)               9470464   \n",
      "_________________________________________________________________\n",
      "dense_3 (Dense)              (None, 1)                 513       \n",
      "=================================================================\n",
      "Total params: 9,494,561\n",
      "Trainable params: 9,494,561\n",
      "Non-trainable params: 0\n",
      "_________________________________________________________________\n"
     ]
    }
   ],
   "source": [
    "model.summary()"
   ]
  },
  {
   "cell_type": "code",
   "execution_count": 6,
   "id": "empty-findings",
   "metadata": {},
   "outputs": [
    {
     "name": "stderr",
     "output_type": "stream",
     "text": [
      "c:\\users\\lenovo\\appdata\\local\\programs\\python\\python38\\lib\\site-packages\\tensorflow\\python\\keras\\optimizer_v2\\optimizer_v2.py:374: UserWarning: The `lr` argument is deprecated, use `learning_rate` instead.\n",
      "  warnings.warn(\n"
     ]
    }
   ],
   "source": [
    "model.compile(optimizer=RMSprop(lr=1e-4), loss='binary_crossentropy', metrics=['acc'])"
   ]
  },
  {
   "cell_type": "code",
   "execution_count": null,
   "id": "accurate-colorado",
   "metadata": {},
   "outputs": [
    {
     "name": "stderr",
     "output_type": "stream",
     "text": [
      "c:\\users\\lenovo\\appdata\\local\\programs\\python\\python38\\lib\\site-packages\\tensorflow\\python\\keras\\engine\\training.py:1940: UserWarning: `Model.fit_generator` is deprecated and will be removed in a future version. Please use `Model.fit`, which supports generators.\n",
      "  warnings.warn('`Model.fit_generator` is deprecated and '\n"
     ]
    },
    {
     "name": "stdout",
     "output_type": "stream",
     "text": [
      "Epoch 1/100\n",
      "2500/2500 [==============================] - 986s 393ms/step - loss: 0.5662 - acc: 0.7015 - val_loss: 0.4929 - val_acc: 0.7552\n",
      "Epoch 2/100\n",
      "2500/2500 [==============================] - 909s 364ms/step - loss: 0.4604 - acc: 0.7862 - val_loss: 0.4775 - val_acc: 0.7769\n",
      "Epoch 3/100\n",
      "2500/2500 [==============================] - 913s 365ms/step - loss: 0.4117 - acc: 0.8133 - val_loss: 0.4614 - val_acc: 0.7799\n",
      "Epoch 4/100\n",
      "2500/2500 [==============================] - 5138s 2s/step - loss: 0.3758 - acc: 0.8320 - val_loss: 0.4300 - val_acc: 0.7907\n",
      "Epoch 5/100\n",
      "2500/2500 [==============================] - 917s 367ms/step - loss: 0.3391 - acc: 0.8526 - val_loss: 0.4199 - val_acc: 0.8036\n",
      "Epoch 6/100\n",
      "2500/2500 [==============================] - 1050s 420ms/step - loss: 0.3093 - acc: 0.8672 - val_loss: 0.5130 - val_acc: 0.7838\n",
      "Epoch 7/100\n",
      "2425/2500 [============================>.] - ETA: 39s - loss: 0.2849 - acc: 0.8840"
     ]
    }
   ],
   "source": [
    "history = model.fit_generator(train_generator,\n",
    "                              epochs=100,\n",
    "                              steps_per_epoch=2500,\n",
    "                              verbose=1,\n",
    "                              validation_data=test_generator)\n"
   ]
  },
  {
   "cell_type": "code",
   "execution_count": 23,
   "id": "surrounded-angola",
   "metadata": {},
   "outputs": [
    {
     "data": {
      "text/plain": [
       "Text(0.5, 1.0, 'Training and validation loss')"
      ]
     },
     "execution_count": 23,
     "metadata": {},
     "output_type": "execute_result"
    },
    {
     "data": {
      "image/png": "[encoded data removed]",
      "text/plain": [
       "<Figure size 432x288 with 1 Axes>"
      ]
     },
     "metadata": {
      "needs_background": "light"
     },
     "output_type": "display_data"
    },
    {
     "data": {
      "image/png": "[encoded data removed]",
      "text/plain": [
       "<Figure size 432x288 with 1 Axes>"
      ]
     },
     "metadata": {
      "needs_background": "light"
     },
     "output_type": "display_data"
    }
   ],
   "source": [
    "acc      = history.history[     'acc' ]\n",
    "val_acc  = history.history[ 'val_acc' ]\n",
    "loss     = history.history[    'loss' ]\n",
    "val_loss = history.history['val_loss' ]\n",
    "\n",
    "epochs   = range(len(acc)) # Get number of epochs\n",
    "\n",
    "#------------------------------------------------\n",
    "# Plot training and validation accuracy per epoch\n",
    "#------------------------------------------------\n",
    "plt.plot  ( epochs,     acc )\n",
    "plt.plot  ( epochs, val_acc )\n",
    "plt.title ('Training and validation accuracy')\n",
    "plt.figure()\n",
    "\n",
    "#------------------------------------------------\n",
    "# Plot training and validation loss per epoch\n",
    "#------------------------------------------------\n",
    "plt.plot  ( epochs,     loss )\n",
    "plt.plot  ( epochs, val_loss )\n",
    "plt.title ('Training and validation loss'   )"
   ]
  },
  {
   "cell_type": "code",
   "execution_count": null,
   "id": "confirmed-round",
   "metadata": {},
   "outputs": [],
   "source": [
    "import matplotlib.pyplot as plt\n",
    "acc = history.history['accuracy']\n",
    "val_acc = history.history['val_accuracy']\n",
    "loss = history.history['loss']\n",
    "val_loss = history.history['val_loss']\n",
    "\n",
    "epochs = range(len(acc))\n",
    "\n",
    "plt.plot(epochs, acc, 'bo', label='Training accuracy')\n",
    "plt.plot(epochs, val_acc, 'b', label='Validation accuracy')\n",
    "plt.title('Training and validation accuracy')\n",
    "\n",
    "plt.figure()\n",
    "\n",
    "plt.plot(epochs, loss, 'bo', label='Training Loss')\n",
    "plt.plot(epochs, val_loss, 'b', label='Validation Loss')\n",
    "plt.title('Training and validation loss')\n",
    "plt.legend()\n",
    "\n",
    "plt.show()"
   ]
  }
 ],
 "metadata": {
  "kernelspec": {
   "display_name": "Python 3",
   "language": "python",
   "name": "python3"
  },
  "language_info": {
   "codemirror_mode": {
    "name": "ipython",
    "version": 3
   },
   "file_extension": ".py",
   "mimetype": "text/x-python",
   "name": "python",
   "nbconvert_exporter": "python",
   "pygments_lexer": "ipython3",
   "version": "3.8.7"
  }
 },
 "nbformat": 4,
 "nbformat_minor": 5
}
